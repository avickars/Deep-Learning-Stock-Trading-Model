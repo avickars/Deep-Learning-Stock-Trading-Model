{
 "cells": [
  {
   "cell_type": "code",
   "execution_count": 17,
   "metadata": {},
   "outputs": [],
   "source": [
    "import pandas as pd"
   ]
  },
  {
   "cell_type": "code",
   "execution_count": 18,
   "metadata": {},
   "outputs": [],
   "source": [
    "ford = pd.read_csv('Data/Final Predictions/fordComplete.csv', index_col = 'Date')\n",
    "nordstrom = pd.read_csv('Data/Final Predictions/nordstromComplete.csv', index_col = 'Date')\n",
    "boa = pd.read_csv('Data/Final Predictions/bankOfAmericaComplete.csv', index_col = 'Date')\n",
    "exxon = pd.read_csv('Data/Final Predictions/exxonComplete.csv', index_col = 'Date')\n",
    "forward = pd.read_csv('Data/Final Predictions/forwardComplete.csv', index_col = 'Date')"
   ]
  },
  {
   "cell_type": "code",
   "execution_count": 19,
   "metadata": {},
   "outputs": [],
   "source": [
    "#Concattenating all the data\n",
    "dataComplete = pd.concat([ford,nordstrom, boa, exxon, forward])"
   ]
  },
  {
   "cell_type": "code",
   "execution_count": 20,
   "metadata": {},
   "outputs": [],
   "source": [
    "dataComplete = pd.DataFrame(dataComplete, columns=dataComplete.columns, index=pd.to_datetime(dataComplete.index))"
   ]
  },
  {
   "cell_type": "code",
   "execution_count": 21,
   "metadata": {},
   "outputs": [],
   "source": [
    "# Sorting it\n",
    "dataComplete = dataComplete.sort_values(by=['Date','stock'])"
   ]
  },
  {
   "cell_type": "code",
   "execution_count": 22,
   "metadata": {},
   "outputs": [],
   "source": [
    "dataComplete.to_csv('Data/Final Predictions/dataComplete.csv')"
   ]
  },
  {
   "cell_type": "code",
   "execution_count": null,
   "metadata": {},
   "outputs": [],
   "source": []
  },
  {
   "cell_type": "code",
   "execution_count": null,
   "metadata": {},
   "outputs": [],
   "source": []
  }
 ],
 "metadata": {
  "kernelspec": {
   "display_name": "Python 3",
   "language": "python",
   "name": "python3"
  },
  "language_info": {
   "codemirror_mode": {
    "name": "ipython",
    "version": 3
   },
   "file_extension": ".py",
   "mimetype": "text/x-python",
   "name": "python",
   "nbconvert_exporter": "python",
   "pygments_lexer": "ipython3",
   "version": "3.8.5"
  }
 },
 "nbformat": 4,
 "nbformat_minor": 4
}
