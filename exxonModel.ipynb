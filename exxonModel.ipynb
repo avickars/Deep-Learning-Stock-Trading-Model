{
 "cells": [
  {
   "cell_type": "code",
   "execution_count": 18,
   "metadata": {},
   "outputs": [],
   "source": [
    "# Reading in neccessary packages\n",
    "from datetime import date, timedelta\n",
    "import numpy as np\n",
    "import pandas as pd\n",
    "from keras.models import Sequential, Model, model_from_json\n",
    "from keras.layers import Dense, Dropout, LSTM, Input, Activation, concatenate\n",
    "from sklearn.preprocessing import MinMaxScaler\n",
    "from sklearn.pipeline import make_pipeline\n",
    "import matplotlib.pyplot as plt\n",
    "from matplotlib.gridspec import GridSpec\n",
    "from statsmodels.graphics.tsaplots import plot_acf\n",
    "from sklearn.utils import resample\n",
    "\n",
    "import tensorflow as tf\n",
    "physical_devices = tf.config.list_physical_devices('GPU')\n",
    "tf.config.experimental.set_memory_growth(physical_devices[0], enable=True)\n",
    "import yfinance as yf"
   ]
  },
  {
   "cell_type": "code",
   "execution_count": 19,
   "metadata": {},
   "outputs": [],
   "source": [
    "# object = yf.Ticker('XOM')\n",
    "# data = object.history(start=\"2000-01-01\", end=\"2020-11-17\")\n",
    "# data.to_csv('Data/exxon.csv')\n",
    "data = pd.read_csv('Data/exxon.csv', index_col='Date')"
   ]
  },
  {
   "cell_type": "code",
   "execution_count": 20,
   "metadata": {},
   "outputs": [],
   "source": [
    "# This defines the numpy of days in the past we will use to predict the current price\n",
    "LAG = 40"
   ]
  },
  {
   "cell_type": "code",
   "execution_count": 21,
   "metadata": {},
   "outputs": [],
   "source": [
    "# Calculates the MSE\n",
    "def mse(x, y):\n",
    "    preds = model.predict(x)\n",
    "    preds = scaler.inverse_transform(preds)\n",
    "    unscaled_yTest = scaler.inverse_transform(np.reshape(y, (-1, 1)))\n",
    "    return np.mean(np.square(preds-unscaled_yTest)), preds, unscaled_yTest"
   ]
  },
  {
   "cell_type": "code",
   "execution_count": 22,
   "metadata": {},
   "outputs": [],
   "source": [
    "# This function accepts the raw data and transforms it into the form required for the LSTM NN.  \n",
    "# - It removes unneccessary columns\n",
    "# - scales the data between 0 and 1\n",
    "# - transforms into numpy arrays\n",
    "def transform(df, n=40):\n",
    "    df = pd.DataFrame(df['Open'])  # Removing all the other columns as we are only predicting if we should buy based on the opening stock price\n",
    "\n",
    "    \n",
    "    # Normalizing to 0-1 range\n",
    "    scaler = MinMaxScaler(feature_range=(0, 1))\n",
    "    scaler.fit(df)\n",
    "    df = pd.DataFrame(scaler.transform(df), columns=df.columns, index=pd.to_datetime(df.index))\n",
    "\n",
    "\n",
    "    # Creating 40 columns that give the past 40 day opening stock price\n",
    "    for i in range(1, n + 1):\n",
    "        df[f'Open-{i}'] = df['Open'].shift(i)\n",
    "\n",
    "    # Subsetting for the neccessary columns\n",
    "    df = df.iloc[40:, 0:]\n",
    "\n",
    "    # Splitting into training and testing data (test size is about last 2 years)\n",
    "    dt = pd.to_datetime(date(2020, 11, 17) - timedelta(days=730))\n",
    "    train = df[df.index < dt]\n",
    "    test = df[df.index >= dt]     \n",
    "\n",
    "    # Splitting into appropriat x and y values\n",
    "    xTrain = train.iloc[:, 1:]\n",
    "    yTrain = train.iloc[:, 0]\n",
    "    xTest = test.iloc[:, 1:]\n",
    "    yTest = test.iloc[:, 0]\n",
    "\n",
    "    # Converting to numpy arrays to feed into model\n",
    "    xTrain = xTrain.to_numpy()\n",
    "    yTrain = yTrain.to_numpy()\n",
    "    xTest = xTest.to_numpy()\n",
    "    yTest = yTest.to_numpy()\n",
    "\n",
    "    # Reshaping to get correct form\n",
    "    xTrain = np.reshape(xTrain, (xTrain.shape[0], xTrain.shape[1], 1))\n",
    "    xTest = np.reshape(xTest, (xTest.shape[0], xTest.shape[1], 1))\n",
    "\n",
    "    return xTrain, yTrain, xTest, yTest, scaler"
   ]
  },
  {
   "cell_type": "code",
   "execution_count": 23,
   "metadata": {},
   "outputs": [],
   "source": [
    "def saveModel(model, name, location='Data'):\n",
    "    # CITATION: https://machinelearningmastery.com/save-load-keras-deep-learning-models/\n",
    "    # serialize model to JSON\n",
    "    model_json = model.to_json()\n",
    "    with open(f\"{location}/{name}.json\", \"w\") as json_file:\n",
    "        json_file.write(model_json)\n",
    "    # serialize weights to HDF5\n",
    "    model.save_weights(f\"{location}/{name}.h5\")\n",
    "    print(\"Saved model to disk\")\n",
    "\n",
    "def loadModel(name, location='Data'):\n",
    "    # CITATION: https://machinelearningmastery.com/save-load-keras-deep-learning-models/\n",
    "    # load json and create model\n",
    "    json_file = open(f\"{location}/{name}.json\", 'r')\n",
    "    loaded_model_json = json_file.read()\n",
    "    json_file.close()\n",
    "    model = model_from_json(loaded_model_json)\n",
    "    # load weights into new model\n",
    "    model.load_weights(f\"{location}/{name}.h5\")\n",
    "    return model\n",
    "    print(\"Loaded model from disk\")"
   ]
  },
  {
   "cell_type": "code",
   "execution_count": 24,
   "metadata": {},
   "outputs": [],
   "source": [
    "xTrain, yTrain, xTest, yTest, scaler = transform(data, LAG)"
   ]
  },
  {
   "cell_type": "code",
   "execution_count": 25,
   "metadata": {},
   "outputs": [],
   "source": [
    "def modelTraining(epoch, batchSize, neuronsLSTM1=50,neuronsLSTM2=128, neuronsDense=64, learningRate=0.0005):\n",
    "    with tf.device(\"gpu:0\"):\n",
    "        model = Sequential()\n",
    "        model.add(LSTM(neuronsLSTM1,input_shape=(xTrain.shape[1],xTrain.shape[2])))\n",
    "        model.add(Dropout(0.2))\n",
    "        model.add(Dense(neuronsDense))\n",
    "        model.add(Activation('sigmoid'))\n",
    "        model.add(Dense(1))\n",
    "        model.add(Activation('linear'))\n",
    "        opt = tf.keras.optimizers.Adam(lr=learningRate)\n",
    "        model.compile(optimizer=opt, loss='mse')\n",
    "        model.fit(xTrain,yTrain, batch_size=batchSize, epochs=epoch, shuffle=True)\n",
    "    return model"
   ]
  },
  {
   "cell_type": "code",
   "execution_count": 26,
   "metadata": {},
   "outputs": [],
   "source": [
    "# model = modelTraining(2000, 10)\n",
    "# saveModel(model, \"fordRealComplete\", location='Data')\n",
    "model = loadModel(name=\"exxonComplete\")"
   ]
  },
  {
   "cell_type": "code",
   "execution_count": 27,
   "metadata": {},
   "outputs": [
    {
     "name": "stdout",
     "output_type": "stream",
     "text": [
      "MSE Train: 0.4958020594751744\n",
      "MSE Test: 1.5148238706029442\n"
     ]
    },
    {
     "data": {
      "text/plain": [
       "<matplotlib.legend.Legend at 0x264408b8a00>"
      ]
     },
     "execution_count": 27,
     "metadata": {},
     "output_type": "execute_result"
    },
    {
     "data": {
      "image/png": "[encoded data removed]",
      "text/plain": [
       "<Figure size 576x432 with 2 Axes>"
      ]
     },
     "metadata": {
      "needs_background": "light"
     },
     "output_type": "display_data"
    }
   ],
   "source": [
    "mseTrain, yHat, y = mse(xTrain,yTrain)\n",
    "print(\"MSE Train:\", mseTrain)\n",
    "\n",
    "fig, axes = plt.subplots(2, figsize=(8, 6))\n",
    "\n",
    "# Set the title for the figure\n",
    "fig.suptitle('Tesla Model Performance', fontsize=15)\n",
    "\n",
    "# Top Left Subplot\n",
    "axes[0].plot(y)\n",
    "axes[0].plot(yHat)\n",
    "axes[0].set_title(\"Training Data\")\n",
    "axes[0].legend(['Real', 'Predicted'])\n",
    "\n",
    "\n",
    "mseTest, yHat, y = mse(xTest,yTest)\n",
    "\n",
    "print(\"MSE Test:\", mseTest)\n",
    "# Top Right Subplot\n",
    "axes[1].plot(y)\n",
    "axes[1].plot(yHat)\n",
    "axes[1].set_title(\"Testing Data\")\n",
    "axes[1].legend(['Real', 'Predicted'])"
   ]
  },
  {
   "cell_type": "code",
   "execution_count": 28,
   "metadata": {},
   "outputs": [],
   "source": [
    "def formulateData(originalData, residuals, predicted):\n",
    "    originalData = pd.DataFrame(originalData['Open'])\n",
    "\n",
    "    originalData['residuals'] = residuals\n",
    "    originalData['predicted'] = predicted\n",
    "\n",
    "    originalData['tomorrow'] = originalData['predicted'].shift(-1)\n",
    "\n",
    "    originalData['action'] = np.where(originalData['tomorrow'] - originalData['Open'] > 0, 'buy', 'sell')\n",
    "\n",
    "    return originalData\n",
    "\n",
    "def prediction(scaler, model, x, y):\n",
    "    preds = model.predict(x)\n",
    "    preds = scaler.inverse_transform(preds)\n",
    "    unscaled_yTest = scaler.inverse_transform(np.reshape(y, (-1, 1)))\n",
    "    return (preds-unscaled_yTest), preds, unscaled_yTest\n",
    "\n",
    "data = pd.DataFrame(data, index=pd.to_datetime(data.index))\n",
    "dt = pd.to_datetime(date(2020, 11, 17) - timedelta(days=730))\n",
    "fordTrain = data[data.index < dt].iloc[40:,:]\n",
    "fordTest = data[data.index >= dt]\n",
    "residuals, yHat, y = prediction(scaler, model, xTest, yTest)\n",
    "tradingActionsTest = formulateData(fordTest, residuals, yHat)\n",
    "\n",
    "residuals, yHat, y = prediction(scaler, model, xTrain, yTrain)\n",
    "tradingActionsTrain = formulateData(fordTrain, residuals, yHat)"
   ]
  },
  {
   "cell_type": "code",
   "execution_count": 29,
   "metadata": {},
   "outputs": [],
   "source": [
    "lookBack = 180\n",
    "tradingActionsTest_full = pd.concat([tradingActionsTrain.iloc[-lookBack:,],tradingActionsTest])\n",
    "movingResidualAvg = []\n",
    "for i in range(lookBack, len(tradingActionsTest_full)):\n",
    "    residualAverage = np.average(tradingActionsTest_full.iloc[i-lookBack:i,:]['residuals'])\n",
    "    movingResidualAvg.append(residualAverage )\n",
    "\n",
    "tradingActionsTest['movingResidual'] = movingResidualAvg\n",
    "tradingActionsTest['predictedResidualTomorrow'] = tradingActionsTest['tomorrow'] - tradingActionsTest['movingResidual']\n",
    "tradingActionsTest['residualAction'] = np.where(tradingActionsTest['predictedResidualTomorrow'] - tradingActionsTest['Open']>0,\n",
    "                                                'buy',\n",
    "                                                'sell')\n"
   ]
  },
  {
   "cell_type": "code",
   "execution_count": 30,
   "metadata": {},
   "outputs": [],
   "source": [
    "tradingActionsTest['trueTomorrow'] = tradingActionsTest['Open'].shift(-1)\n",
    "tradingActionsTest['trueAction'] = np.where(tradingActionsTest['trueTomorrow']-tradingActionsTest['Open']>0,\n",
    "                                           'buy',\n",
    "                                           'sell')"
   ]
  },
  {
   "cell_type": "code",
   "execution_count": 31,
   "metadata": {},
   "outputs": [
    {
     "name": "stdout",
     "output_type": "stream",
     "text": [
      "0.5318725099601593\n"
     ]
    }
   ],
   "source": [
    "print(np.sum(tradingActionsTest['residualAction'] ==   tradingActionsTest['trueAction'])/len(tradingActionsTest))"
   ]
  },
  {
   "cell_type": "code",
   "execution_count": 33,
   "metadata": {},
   "outputs": [],
   "source": [
    "tradingActionsFinal = tradingActionsTest[['Open', 'trueTomorrow', 'predictedResidualTomorrow','residualAction']]\n",
    "tradingActionsFinal = tradingActionsFinal.rename(columns={'predictedResidualTomorrow':'predictedTomorrow','residualAction':'predictedAction'})\n",
    "tradingActionsFinal['predicted'] = tradingActionsFinal['predictedTomorrow'].shift(1)\n",
    "tradingActionsFinal['residual'] = tradingActionsFinal['predicted']-tradingActionsFinal['Open']\n",
    "tradingActionsFinal['stock'] = 'exxon'"
   ]
  },
  {
   "cell_type": "code",
   "execution_count": 34,
   "metadata": {},
   "outputs": [],
   "source": [
    "tradingActionsFinal.to_csv('Data/exxonComplete.csv')"
   ]
  },
  {
   "cell_type": "code",
   "execution_count": null,
   "metadata": {},
   "outputs": [],
   "source": []
  },
  {
   "cell_type": "code",
   "execution_count": null,
   "metadata": {},
   "outputs": [],
   "source": []
  },
  {
   "cell_type": "code",
   "execution_count": null,
   "metadata": {},
   "outputs": [],
   "source": []
  }
 ],
 "metadata": {
  "kernelspec": {
   "display_name": "Python 3",
   "language": "python",
   "name": "python3"
  },
  "language_info": {
   "codemirror_mode": {
    "name": "ipython",
    "version": 3
   },
   "file_extension": ".py",
   "mimetype": "text/x-python",
   "name": "python",
   "nbconvert_exporter": "python",
   "pygments_lexer": "ipython3",
   "version": "3.8.5"
  }
 },
 "nbformat": 4,
 "nbformat_minor": 4
}
